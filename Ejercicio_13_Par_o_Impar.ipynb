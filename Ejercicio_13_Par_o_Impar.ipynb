{
  "nbformat": 4,
  "nbformat_minor": 0,
  "metadata": {
    "colab": {
      "provenance": [],
      "include_colab_link": true
    },
    "kernelspec": {
      "name": "python3",
      "display_name": "Python 3"
    },
    "language_info": {
      "name": "python"
    }
  },
  "cells": [
    {
      "cell_type": "markdown",
      "metadata": {
        "id": "view-in-github",
        "colab_type": "text"
      },
      "source": [
        "<a href=\"https://colab.research.google.com/github/respinosa25/hola-mundo/blob/main/Ejercicio_13_Par_o_Impar.ipynb\" target=\"_parent\"><img src=\"https://colab.research.google.com/assets/colab-badge.svg\" alt=\"Open In Colab\"/></a>"
      ]
    },
    {
      "cell_type": "markdown",
      "source": [
        "# Ejercicio 13: Número par o Impar\n",
        "\n",
        "\n",
        "---\n",
        "\n",
        "\n",
        "Introducir un número por teclado y que se muestre un mensaje indicando si es par o impar."
      ],
      "metadata": {
        "id": "_WdyaXIEiEcK"
      }
    },
    {
      "cell_type": "markdown",
      "source": [
        "___\n",
        "## Solucion 1: Operador de Formato %#"
      ],
      "metadata": {
        "id": "aj_MXLylih9x"
      }
    },
    {
      "cell_type": "code",
      "execution_count": null,
      "metadata": {
        "id": "umuvbamkhwJ5"
      },
      "outputs": [],
      "source": [
        "# Declaracion de variables:\n",
        "int_Numero = 0\n",
        "\n",
        "# Solicitud de Datos\n",
        "int_Numero = int(input('>>> Introduce un numero: '))\n",
        "\n",
        "if int_Numero == (int_Numero // 2) * 2:\n",
        "    print(\"El numero %d es par.\" %(int_Numero))\n",
        "else:\n",
        "    print(\"El numero %d es impar.\" %(int_Numero))"
      ]
    },
    {
      "cell_type": "markdown",
      "source": [
        "___\n",
        "## Solucion 2: f-strings"
      ],
      "metadata": {
        "id": "MvfLcwv3ivvK"
      }
    },
    {
      "cell_type": "code",
      "source": [
        "# Declaracion de variables:\n",
        "int_Numero = 0\n",
        "\n",
        "# Solicitud de Datos\n",
        "int_Numero = int(input('>>> Introduce un numero: '))\n",
        "\n",
        "if int_Numero == (int_Numero // 2) * 2:\n",
        "    print(f\"El numero {int_Numero} es par.\")\n",
        "else:\n",
        "    print(f\"El numero {int_Numero} es impar.\")"
      ],
      "metadata": {
        "id": "abJUWye9i_XD"
      },
      "execution_count": null,
      "outputs": []
    }
  ]
}