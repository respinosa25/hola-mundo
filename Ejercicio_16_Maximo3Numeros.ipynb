{
  "cells": [
    {
      "cell_type": "markdown",
      "metadata": {
        "id": "view-in-github",
        "colab_type": "text"
      },
      "source": [
        "<a href=\"https://colab.research.google.com/github/respinosa25/hola-mundo/blob/main/Ejercicio_16_Maximo3Numeros.ipynb\" target=\"_parent\"><img src=\"https://colab.research.google.com/assets/colab-badge.svg\" alt=\"Open In Colab\"/></a>"
      ]
    },
    {
      "cell_type": "markdown",
      "metadata": {
        "id": "l31pn7Aw4Nq-"
      },
      "source": [
        "# Ejercicio 16: Mayor de 3 Números\n",
        "\n",
        "\n",
        "---\n",
        "\n",
        "\n",
        "Escribir un programa que solicite al usuario 3 números, compararlos y decir cual es mayor.\n"
      ]
    },
    {
      "cell_type": "code",
      "execution_count": null,
      "metadata": {
        "id": "zT4YSPg34BTJ"
      },
      "outputs": [],
      "source": [
        "# Declaracion de variables\n",
        "primer_numero  = 0.0\n",
        "segundo_numero = 0.0\n",
        "tercer_numero  = 0.0\n",
        "\n",
        "# Solicitud de datos\n",
        "primer_numero  = float(input('Introduce el primer  numero: '))\n",
        "segundo_numero = float(input('Introduce el segundo numero: '))\n",
        "tercer_numero  = float(input('Introduce el tercer  numero: '))\n",
        "\n",
        "if primer_numero > segundo_numero:\n",
        "    if primer_numero > tercer_numero:\n",
        "        maximo = primer_numero\n",
        "    else:\n",
        "        maximo = tercer_numero\n",
        "else:\n",
        "    if segundo_numero > tercer_numero:\n",
        "        maximo = segundo_numero\n",
        "    else:\n",
        "        maximo = tercer_numero\n",
        "\n",
        "print('>>> El numero maximo es: %5.2f' %(maximo))"
      ]
    }
  ],
  "metadata": {
    "colab": {
      "provenance": [],
      "include_colab_link": true
    },
    "kernelspec": {
      "display_name": "Python 3",
      "name": "python3"
    },
    "language_info": {
      "name": "python"
    }
  },
  "nbformat": 4,
  "nbformat_minor": 0
}