{
  "nbformat": 4,
  "nbformat_minor": 0,
  "metadata": {
    "colab": {
      "provenance": [],
      "include_colab_link": true
    },
    "kernelspec": {
      "name": "python3",
      "display_name": "Python 3"
    },
    "language_info": {
      "name": "python"
    }
  },
  "cells": [
    {
      "cell_type": "markdown",
      "metadata": {
        "id": "view-in-github",
        "colab_type": "text"
      },
      "source": [
        "<a href=\"https://colab.research.google.com/github/respinosa25/hola-mundo/blob/main/Ejercicio_01_ImprimirMensaje.ipynb\" target=\"_parent\"><img src=\"https://colab.research.google.com/assets/colab-badge.svg\" alt=\"Open In Colab\"/></a>"
      ]
    },
    {
      "cell_type": "markdown",
      "source": [
        "# Ejercicio 1: Imprimir un Mensaje en Pantalla\n",
        "\n",
        "---\n",
        "\n",
        "\n",
        "Escribir un programa que muestre por pantalla el siguiente mensaje:\n",
        "\n",
        "```\n",
        "La felicidad se puede encontrar hasta en los más oscuros\n",
        "momentos, si somos capaces de usar bien la luz.\n",
        "— Albus Dumbledore\n",
        "```\n",
        "\n",
        "\n"
      ],
      "metadata": {
        "id": "Od5owP-SAV5J"
      }
    },
    {
      "cell_type": "markdown",
      "source": [
        "\n",
        "\n",
        "---\n",
        "\n",
        "\n",
        "## Solución 1: Uso de Multiples print()"
      ],
      "metadata": {
        "id": "hOrh3i2UBKGx"
      }
    },
    {
      "cell_type": "code",
      "source": [
        "print(\"La felicidad se puede encontrar hasta en los más oscuros \")\n",
        "print(\"momentos, si somos capaces de usar bien la luz.\")\n",
        "print(\"— Albus Dumbledore\")\n"
      ],
      "metadata": {
        "id": "mqOjgteUBaEQ"
      },
      "execution_count": null,
      "outputs": []
    },
    {
      "cell_type": "markdown",
      "source": [
        "___\n",
        "## Solución 2: Uso de Comillas triples (''')\n",
        "\n",
        "Las comillas triples (`'''`) nos permiten insertar un string con todas las líneas que deseemos. Basta que enmarquemos un bloque de texto entre comillas triples (da igual si son simples o dobles) y Python respetará el aspecto y formato completo del texto."
      ],
      "metadata": {
        "id": "VYI0sV2lBjj0"
      }
    },
    {
      "cell_type": "code",
      "source": [
        "print('''La felicidad se puede encontrar hasta en los más oscuros\n",
        "momentos, si somos capaces de usar bien la luz.\n",
        "— Albus Dumbledore''')"
      ],
      "metadata": {
        "id": "cQrHVEoMBs_v"
      },
      "execution_count": null,
      "outputs": []
    }
  ]
}