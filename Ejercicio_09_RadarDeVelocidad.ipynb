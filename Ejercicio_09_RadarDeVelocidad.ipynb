{
  "nbformat": 4,
  "nbformat_minor": 0,
  "metadata": {
    "colab": {
      "provenance": [],
      "include_colab_link": true
    },
    "kernelspec": {
      "name": "python3",
      "display_name": "Python 3"
    },
    "language_info": {
      "name": "python"
    }
  },
  "cells": [
    {
      "cell_type": "markdown",
      "metadata": {
        "id": "view-in-github",
        "colab_type": "text"
      },
      "source": [
        "<a href=\"https://colab.research.google.com/github/respinosa25/hola-mundo/blob/main/Ejercicio_09_RadarDeVelocidad.ipynb\" target=\"_parent\"><img src=\"https://colab.research.google.com/assets/colab-badge.svg\" alt=\"Open In Colab\"/></a>"
      ]
    },
    {
      "cell_type": "markdown",
      "source": [
        "# Ejercicio 9: Radar de Velocidad\n",
        "\n",
        "\n",
        "---\n",
        "\n",
        "\n",
        "Un radar común de detección de velocidad de la policía de caminos emite un rayo de microondas a una frecuencia `f0`. El rayo es reflejado por un automóvil que se aproxima y el rayo reflejado es captado y analizado por la unidad de radar. La frecuencia del rayo reflejado es cambiada ligeramente de `f0` a `f1` debido al movimiento del automóvil.\n",
        "\n",
        "La relación entre la velocidad del automóvil, v, en millas por hora, y las dos frecuencias de microondas es:\n",
        "\n",
        "`velocidad = 6.685x10^8 x (f1 - f0) / (f1 + f0)`\n",
        "\n",
        "Donde las ondas emitidas tienen una frecuencia de:\n",
        "\n",
        "` f0 = 2 x10^10 sec ^–1`\n",
        "\n",
        "Usando la fórmula dada, escriba un programa para calcular y desplegar la velocidad correspondiente a una frecuencia recibida de `2.0000004 x 10^10 sec–1`.\n",
        "\n",
        "\n",
        "---\n",
        "\n",
        "\n",
        "► Variables:\n",
        "\n",
        "· Velocidad : Velocidad del Vehículo.\n",
        "\n",
        "· Frecuencia0: Frecuencia inicial.\n",
        "\n",
        "· Frecuencia1: Frecuencia Final.\n",
        "\n",
        "\n",
        "\n",
        "---\n",
        "\n",
        "\n",
        "\n",
        "► Salida:\n",
        "```\n",
        "----------------------------------------\n",
        "           RADAR DE VELOCIDAD           \n",
        "----------------------------------------\n",
        ">>> La Velocidad es: 66.85 millas/hora.\n",
        "----------------------------------------\n",
        "\n",
        "```\n",
        "\n",
        "\n",
        "---\n",
        "\n",
        "\n"
      ],
      "metadata": {
        "id": "u8Pf09xid1Zi"
      }
    },
    {
      "cell_type": "code",
      "execution_count": null,
      "metadata": {
        "id": "IdgAe7QEdtXQ"
      },
      "outputs": [],
      "source": [
        "# Valores para Dibujar la Tabla\n",
        "ANCHO = 40\n",
        "RELLENO1 = \"-\"\n",
        "RELLENO2 = \" \"\n",
        "CADENA_VACIA = \"\"\n",
        "\n",
        "######################################################################\n",
        "\n",
        "# Mensajes a Mostrar\n",
        "MENSAJE_INICIAL = \"RADAR DE VELOCIDAD\"\n",
        "\n",
        "######################################################################\n",
        "\n",
        "# Declaracion de variables\n",
        "Velocidad   = 0.0\n",
        "Frecuencia0 = 2e-10\n",
        "Frecuencia1 = 2.0000004e-10\n",
        "\n",
        "# Formato de Salida Final en Pantalla\n",
        "Formato_Respuesta = \">>> La Velocidad es: %0.2f millas/hora.\"\n",
        "\n",
        "######################################################################\n",
        "\n",
        "# Encabezado del Programa\n",
        "# LINEA 1: Parte superior de la Tabla\n",
        "print(CADENA_VACIA.center(ANCHO,RELLENO1))\n",
        "# Mensaje Centrado\n",
        "print(MENSAJE_INICIAL.center(ANCHO,RELLENO2))\n",
        "\n",
        "######################################################################\n",
        "\n",
        "# Inicio del Programa:\n",
        "# Calculo de la VELOCIDAD del radar\n",
        "# velocidad = 6.685x10^8 x (f1 - f0) / (f1 + f0)\n",
        "Velocidad = 6.685e8*(Frecuencia1-Frecuencia0)/(Frecuencia1+Frecuencia0)\n",
        "\n",
        "# LINEA 2: Separador de la tabla\n",
        "print(CADENA_VACIA.center(ANCHO,RELLENO1))\n",
        "# Se muestra el mensaje en Pantalla\n",
        "print(Formato_Respuesta.center(ANCHO,RELLENO2) %(Velocidad))\n",
        "\n",
        "######################################################################\n",
        "\n",
        "# LINEA 3: Parte Inferior de la Tabla\n",
        "print(CADENA_VACIA.center(ANCHO,RELLENO1))"
      ]
    }
  ]
}