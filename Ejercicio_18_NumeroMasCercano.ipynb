{
  "nbformat": 4,
  "nbformat_minor": 0,
  "metadata": {
    "colab": {
      "provenance": [],
      "include_colab_link": true
    },
    "kernelspec": {
      "name": "python3",
      "display_name": "Python 3"
    },
    "language_info": {
      "name": "python"
    }
  },
  "cells": [
    {
      "cell_type": "markdown",
      "metadata": {
        "id": "view-in-github",
        "colab_type": "text"
      },
      "source": [
        "<a href=\"https://colab.research.google.com/github/respinosa25/hola-mundo/blob/main/Ejercicio_18_NumeroMasCercano.ipynb\" target=\"_parent\"><img src=\"https://colab.research.google.com/assets/colab-badge.svg\" alt=\"Open In Colab\"/></a>"
      ]
    },
    {
      "cell_type": "markdown",
      "source": [
        "# Ejercicio 18: Número más Cercano\n",
        "\n",
        "\n",
        "---\n",
        "\n",
        "\n",
        "Escribir un programa en el cual Dados 5 números enteros solicitados al usuario, determinar cuál de los 4 números enteros es más cercano al primero.\n"
      ],
      "metadata": {
        "id": "-KfvhyB6GABK"
      }
    },
    {
      "cell_type": "code",
      "execution_count": null,
      "metadata": {
        "id": "n-gubmelF-6H"
      },
      "outputs": [],
      "source": [
        "# Declaracion de variables\n",
        "primer_numero  = 0.0\n",
        "segundo_numero = 0.0\n",
        "tercer_numero  = 0.0\n",
        "cuarto_numero  = 0.0\n",
        "quinto_numero  = 0.0\n",
        "\n",
        "Resta1 = 0.0\n",
        "Resta2 = 0.0\n",
        "Resta3 = 0.0\n",
        "Resta4 = 0.0\n",
        "\n",
        "# Solicitud de datos\n",
        "primer_numero  = int(input('Introduce el Primer  numero: '))\n",
        "segundo_numero = int(input('Introduce el Segundo numero: '))\n",
        "tercer_numero  = int(input('Introduce el Tercer  numero: '))\n",
        "cuarto_numero  = int(input('Introduce el Cuarto  numero: '))\n",
        "quinto_numero  = int(input('Introduce el Quinto  numero: '))\n",
        "\n",
        "# Se realizan las restas para hallar la menor diferencia\n",
        "Resta1 = primer_numero - segundo_numero\n",
        "Resta2 = primer_numero - tercer_numero\n",
        "Resta3 = primer_numero - cuarto_numero\n",
        "Resta4 = primer_numero - quinto_numero\n",
        "\n",
        "menor_diferencia = Resta1\n",
        "\n",
        "if Resta2 < menor_diferencia and Resta2 >= 0:\n",
        "   menor_diferencia = Resta2\n",
        "else:\n",
        "    if Resta2 > menor_diferencia and Resta2 <= 0:\n",
        "        menor_diferencia = Resta2\n",
        "\n",
        "if Resta3 < menor_diferencia and Resta3 >= 0:\n",
        "   menor_diferencia = Resta3\n",
        "else:\n",
        "    if Resta3 > menor_diferencia and Resta3 <= 0:\n",
        "        menor_diferencia = Resta3\n",
        "\n",
        "if Resta4 < menor_diferencia and Resta4 >= 0:\n",
        "   menor_diferencia = Resta4\n",
        "else:\n",
        "    if Resta4 > menor_diferencia and Resta4 <= 0:\n",
        "        menor_diferencia = Resta4\n",
        "\n",
        "numero_cercano = primer_numero - menor_diferencia\n",
        "\n",
        "print('El numero mas cercano a %d es %d'%(primer_numero,numero_cercano))"
      ]
    }
  ]
}