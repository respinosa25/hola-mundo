{
  "nbformat": 4,
  "nbformat_minor": 0,
  "metadata": {
    "colab": {
      "provenance": [],
      "include_colab_link": true
    },
    "kernelspec": {
      "name": "python3",
      "display_name": "Python 3"
    },
    "language_info": {
      "name": "python"
    }
  },
  "cells": [
    {
      "cell_type": "markdown",
      "metadata": {
        "id": "view-in-github",
        "colab_type": "text"
      },
      "source": [
        "<a href=\"https://colab.research.google.com/github/respinosa25/hola-mundo/blob/main/Ejercicio_12_Edad2Personas.ipynb\" target=\"_parent\"><img src=\"https://colab.research.google.com/assets/colab-badge.svg\" alt=\"Open In Colab\"/></a>"
      ]
    },
    {
      "cell_type": "markdown",
      "source": [
        "# Ejercicio 12: Edad de 2 Personas\n",
        "\n",
        "\n",
        "---\n",
        "\n",
        "\n",
        "Escribir un Programa que solicite al usuario la edad de 2 personas, y diga cuál es mayor. Ejemplo:\n",
        "\n",
        "`- La Primera persona es mayor!`\n",
        "\n",
        "Si la edad de ambos es igual se muestra el siguiente mensaje:\n",
        "\n",
        "`- Ambos tienen la misma edad! `"
      ],
      "metadata": {
        "id": "YRwCpMEzg0-6"
      }
    },
    {
      "cell_type": "code",
      "execution_count": null,
      "metadata": {
        "id": "fHG0p2m9gmoD"
      },
      "outputs": [],
      "source": [
        "# Declaracion de Variables\n",
        "primera_persona = 0\n",
        "segunda_persona = 0\n",
        "\n",
        "# Solicitud de Datos\n",
        "primera_persona = int(input('>>> Edad de la primera persona: '))\n",
        "segunda_persona = int(input('>>> Edad de la segunda persona: '))\n",
        "\n",
        "if primera_persona == segunda_persona:\n",
        "    print('- Ambos tienen la misma edad')\n",
        "elif  primera_persona > segunda_persona:\n",
        "    print('- La primera persona es mayor!')\n",
        "else:\n",
        "    print('- La segunda persona es mayor!')"
      ]
    }
  ]
}