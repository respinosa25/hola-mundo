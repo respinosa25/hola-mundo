{
  "nbformat": 4,
  "nbformat_minor": 0,
  "metadata": {
    "colab": {
      "provenance": [],
      "include_colab_link": true
    },
    "kernelspec": {
      "name": "python3",
      "display_name": "Python 3"
    },
    "language_info": {
      "name": "python"
    }
  },
  "cells": [
    {
      "cell_type": "markdown",
      "metadata": {
        "id": "view-in-github",
        "colab_type": "text"
      },
      "source": [
        "<a href=\"https://colab.research.google.com/github/respinosa25/hola-mundo/blob/main/Ejercicio_11_PositivoNegativo.ipynb\" target=\"_parent\"><img src=\"https://colab.research.google.com/assets/colab-badge.svg\" alt=\"Open In Colab\"/></a>"
      ]
    },
    {
      "cell_type": "markdown",
      "source": [
        "# Ejercicio 11: Números Positivos y Negativos\n",
        "\n",
        "\n",
        "---\n",
        "\n",
        "\n",
        "Escribir un programa que solicite al usuario un número entero y muestre en pantalla si el número es Positivo (+) o Negativo (-). En caso de que el número sea igual a cero (0) se debe mostrar en pantalla: `El número no es Positivo ni Negativo.  `"
      ],
      "metadata": {
        "id": "ihdQmUPLe_iP"
      }
    },
    {
      "cell_type": "code",
      "execution_count": null,
      "metadata": {
        "id": "5cOEunEye4Bh"
      },
      "outputs": [],
      "source": [
        "# Declaracion de variables\n",
        "numero = 0\n",
        "\n",
        "# Solicitud de Datos\n",
        "numero = float(input('>>> Ingrese un numero: '))\n",
        "\n",
        "# Condiciones para saber si el numero es Positivo o Negativo\n",
        "if numero == 0:\n",
        "    print('El numero no es Positivo ni Negativo.')\n",
        "elif numero < 0:\n",
        "    print('El numero es Negativo.')\n",
        "else:\n",
        "    print('El numero es Positivo.')"
      ]
    }
  ]
}