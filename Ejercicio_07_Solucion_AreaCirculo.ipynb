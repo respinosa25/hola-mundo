{
  "nbformat": 4,
  "nbformat_minor": 0,
  "metadata": {
    "colab": {
      "provenance": [],
      "include_colab_link": true
    },
    "kernelspec": {
      "name": "python3",
      "display_name": "Python 3"
    },
    "language_info": {
      "name": "python"
    }
  },
  "cells": [
    {
      "cell_type": "markdown",
      "metadata": {
        "id": "view-in-github",
        "colab_type": "text"
      },
      "source": [
        "<a href=\"https://colab.research.google.com/github/respinosa25/hola-mundo/blob/main/Ejercicio_07_Solucion_AreaCirculo.ipynb\" target=\"_parent\"><img src=\"https://colab.research.google.com/assets/colab-badge.svg\" alt=\"Open In Colab\"/></a>"
      ]
    },
    {
      "cell_type": "markdown",
      "source": [
        "# Ejercicio 7: Área de un Círculo\n",
        "\n",
        "\n",
        "---\n",
        "\n",
        "\n",
        "Programa que solicite al usuario los datos para calcular el área de un Círculo (●), finalmente mostrar el resultado en pantalla.\n",
        "\n",
        "\n",
        "---\n",
        "\n",
        "\n",
        "► Fórmula:\n",
        "\n",
        "$Area = PI(Lado^2)$\n",
        "\n",
        "\n",
        "---\n",
        "\n"
      ],
      "metadata": {
        "id": "sngeAaDz2oSd"
      }
    },
    {
      "cell_type": "code",
      "source": [
        "# Declaracion de Constantes\n",
        "PI = 3.1416 # Valor aproximado de PI\n",
        "\n",
        "# Declaracion de Variables\n",
        "int_Radio  = 0\n",
        "float_Area = 0\n",
        "\n",
        "# Incio de programa\n",
        "print(\"CALCULAR EL AREA DEL CIRCULO\")\n",
        "\n",
        "# Solicitud de Datos\n",
        "int_Radio = int(input('Introduzca el radio del circulo: '))\n",
        "\n",
        "# AREA DE UN CIRCULO\n",
        "float_Area = PI*(int_Radio**2)\n",
        "\n",
        "print(\"El area del circulo es:  %0.2f\"%(float_Area))"
      ],
      "metadata": {
        "id": "Jpx3qjMk23mL"
      },
      "execution_count": null,
      "outputs": []
    }
  ]
}