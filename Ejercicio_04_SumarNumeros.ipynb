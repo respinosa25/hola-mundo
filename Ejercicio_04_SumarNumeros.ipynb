{
  "nbformat": 4,
  "nbformat_minor": 0,
  "metadata": {
    "colab": {
      "provenance": [],
      "include_colab_link": true
    },
    "kernelspec": {
      "name": "python3",
      "display_name": "Python 3"
    },
    "language_info": {
      "name": "python"
    }
  },
  "cells": [
    {
      "cell_type": "markdown",
      "metadata": {
        "id": "view-in-github",
        "colab_type": "text"
      },
      "source": [
        "<a href=\"https://colab.research.google.com/github/respinosa25/hola-mundo/blob/main/Ejercicio_04_SumarNumeros.ipynb\" target=\"_parent\"><img src=\"https://colab.research.google.com/assets/colab-badge.svg\" alt=\"Open In Colab\"/></a>"
      ]
    },
    {
      "cell_type": "markdown",
      "source": [
        "# Ejercicio 4: Suma de Números Positivos\n",
        "\n",
        "\n",
        "---\n",
        "\n",
        "\n",
        "Escribir un programa que lea un entero positivo, introducido por el usuario y después muestre en pantalla la suma de todos los enteros desde 1.\n",
        "\n",
        "\n",
        "---\n",
        "\n",
        "\n",
        "► Fórmula:\n",
        "\n",
        "$suma= \\frac{n(n+1)}{2}$\n",
        "\n",
        "\n",
        "---\n",
        "\n"
      ],
      "metadata": {
        "id": "WYfmZeJ9TYhT"
      }
    },
    {
      "cell_type": "code",
      "source": [
        "# Declaracion de Variables\n",
        "suma = 0.0\n",
        "numero = 0\n",
        "\n",
        "# Solicitud de Datos\n",
        "print(\"Introduce un número entero: \")\n",
        "numero = int(input(\"> \"))\n",
        "\n",
        "# Cálculo de la suma\n",
        "suma = numero * (numero + 1) / 2\n",
        "print(\"La suma desde 1 hasta \" + str(numero) + \" es \" + str(suma))"
      ],
      "metadata": {
        "id": "569yjiP7TU1n"
      },
      "execution_count": null,
      "outputs": []
    }
  ]
}