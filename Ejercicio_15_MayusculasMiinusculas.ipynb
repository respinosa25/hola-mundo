{
  "nbformat": 4,
  "nbformat_minor": 0,
  "metadata": {
    "colab": {
      "provenance": [],
      "include_colab_link": true
    },
    "kernelspec": {
      "name": "python3",
      "display_name": "Python 3"
    },
    "language_info": {
      "name": "python"
    }
  },
  "cells": [
    {
      "cell_type": "markdown",
      "metadata": {
        "id": "view-in-github",
        "colab_type": "text"
      },
      "source": [
        "<a href=\"https://colab.research.google.com/github/respinosa25/hola-mundo/blob/main/Ejercicio_15_MayusculasMiinusculas.ipynb\" target=\"_parent\"><img src=\"https://colab.research.google.com/assets/colab-badge.svg\" alt=\"Open In Colab\"/></a>"
      ]
    },
    {
      "cell_type": "markdown",
      "source": [
        "# Ejercicio 15: Mayúsculas y Minúsculas\n",
        "\n",
        "\n",
        "---\n",
        "\n",
        "► Teoría:\n",
        "\n",
        "En la práctica, existe un código estándar, el código ASCII (código estándar amer icano para intercambio de información), que relaciona cada letra, número o símbolo con una cifra del 0 al 255 (con una secuencia de 8 bits):\n",
        "\n",
        "* La \"a\" es el número 97\n",
        "* La \"b\" es el número 98\n",
        "* La \"A\" es el número 65,\n",
        "* La \"B\" es el número  67.\n",
        "* El  \"0\" es el número 48\n",
        "* El  \"1\" es el número 49, etc.\n",
        "\n",
        "Así se tiene una forma muy cómoda de almacenar la información en ordenadores, ya que cada letra ocupará exactamente un byte (8 bits: 8 posiciones elementales de memoria).\n",
        "\n",
        "\n",
        "---\n",
        "\n",
        "\n",
        "► Enunciado:\n",
        "\n",
        "Escribir un programa que solicite al usuario una letra y diga si esta es MAYÚSCULA o minúscula."
      ],
      "metadata": {
        "id": "AQS8eQAL0RAV"
      }
    },
    {
      "cell_type": "code",
      "execution_count": null,
      "metadata": {
        "id": "NxNEicZUm5MC"
      },
      "outputs": [],
      "source": [
        "# Declaracion de variables\n",
        "letra = ''\n",
        "\n",
        "# Solicitud de Datos\n",
        "letra = input('>>> Introduce una letra: ')\n",
        "\n",
        "if letra <= 'z'  and letra >= 'a':  # a-z (97-122)\n",
        "    print('La letra es minuscula.')\n",
        "\n",
        "elif letra <= 'Z' and letra >= 'A':  # A-Z (65-90)\n",
        "    print('La letra es Mayuscula.')\n",
        "else:\n",
        "    print('El valor introducido no es una letra.')"
      ]
    }
  ]
}