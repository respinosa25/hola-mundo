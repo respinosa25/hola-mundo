{
  "nbformat": 4,
  "nbformat_minor": 0,
  "metadata": {
    "colab": {
      "provenance": [],
      "include_colab_link": true
    },
    "kernelspec": {
      "name": "python3",
      "display_name": "Python 3"
    },
    "language_info": {
      "name": "python"
    }
  },
  "cells": [
    {
      "cell_type": "markdown",
      "metadata": {
        "id": "view-in-github",
        "colab_type": "text"
      },
      "source": [
        "<a href=\"https://colab.research.google.com/github/respinosa25/hola-mundo/blob/main/Ejercicio_08_FarenheitCelcius.ipynb\" target=\"_parent\"><img src=\"https://colab.research.google.com/assets/colab-badge.svg\" alt=\"Open In Colab\"/></a>"
      ]
    },
    {
      "cell_type": "markdown",
      "source": [
        "# Ejercicio 8: De Farenheit a Celcius\n",
        "\n",
        "\n",
        "---\n",
        "\n",
        "\n",
        "Programa que solicite al usuario los datos para llevar Grados Farenheit a Grados Celcius.\n",
        "\n",
        "\n",
        "---\n",
        "\n",
        "\n",
        "► Fórmula:\n",
        "\n",
        "$celcius = \\frac{(fahrenheit - 32)(5)}{9}$\n",
        "\n",
        "\n",
        "---\n",
        "\n",
        "\n",
        "\n",
        "\n"
      ],
      "metadata": {
        "id": "EGcQ0IaKBia9"
      }
    },
    {
      "cell_type": "code",
      "source": [
        "# Declaracion de Variables\n",
        "int_farenheit = 0\n",
        "float_celcius = 0.0\n",
        "\n",
        "# Incio del programa\n",
        "print(\"LLEVAR GRADOS FARENHEIT A CELCIUS\")\n",
        "\n",
        "# SOLICITUD de Datos\n",
        "int_farenheit = int(input('Introduzca los grados Farenheit: '))\n",
        "\n",
        "# FAHRENHEIT A CELCIUS\n",
        "float_celcius = (int_farenheit-32.0)*5.0/9.0\n",
        "\n",
        "print(\"Grados Celsius:  %0.2f\"%(float_celcius))"
      ],
      "metadata": {
        "id": "MUHWKmI0C4r_"
      },
      "execution_count": null,
      "outputs": []
    }
  ]
}