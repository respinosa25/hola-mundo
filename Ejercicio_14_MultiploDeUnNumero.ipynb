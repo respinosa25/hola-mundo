{
  "nbformat": 4,
  "nbformat_minor": 0,
  "metadata": {
    "colab": {
      "provenance": [],
      "include_colab_link": true
    },
    "kernelspec": {
      "name": "python3",
      "display_name": "Python 3"
    },
    "language_info": {
      "name": "python"
    }
  },
  "cells": [
    {
      "cell_type": "markdown",
      "metadata": {
        "id": "view-in-github",
        "colab_type": "text"
      },
      "source": [
        "<a href=\"https://colab.research.google.com/github/respinosa25/hola-mundo/blob/main/Ejercicio_14_MultiploDeUnNumero.ipynb\" target=\"_parent\"><img src=\"https://colab.research.google.com/assets/colab-badge.svg\" alt=\"Open In Colab\"/></a>"
      ]
    },
    {
      "cell_type": "markdown",
      "source": [
        "# Ejercicio 14: Múltiplos de 3\n",
        "\n",
        "\n",
        "---\n",
        "\n",
        "\n",
        "Introducir un número por teclado y que se muestre un mensaje indicando si es múltiplo de 3."
      ],
      "metadata": {
        "id": "XxpzzLh8kytk"
      }
    },
    {
      "cell_type": "code",
      "execution_count": null,
      "metadata": {
        "id": "mcH8hMbfkrDB"
      },
      "outputs": [],
      "source": [
        "# Declaracion de variables:\n",
        "int_Numero = 0\n",
        "\n",
        "# Solicitud de Datos\n",
        "int_Numero = int(input('>>> Introduce un numero: '))\n",
        "\n",
        "if int_Numero == (int_Numero // 3) * 3:\n",
        "    print(\"El numero %d es multiplo de 3.\" %(int_Numero))\n",
        "else:\n",
        "    print(\"El numero %d no es multiplo de 3.\" %(int_Numero))"
      ]
    }
  ]
}