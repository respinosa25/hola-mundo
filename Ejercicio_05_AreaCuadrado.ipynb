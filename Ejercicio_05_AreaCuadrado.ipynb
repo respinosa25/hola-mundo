{
  "nbformat": 4,
  "nbformat_minor": 0,
  "metadata": {
    "colab": {
      "provenance": [],
      "include_colab_link": true
    },
    "kernelspec": {
      "name": "python3",
      "display_name": "Python 3"
    },
    "language_info": {
      "name": "python"
    }
  },
  "cells": [
    {
      "cell_type": "markdown",
      "metadata": {
        "id": "view-in-github",
        "colab_type": "text"
      },
      "source": [
        "<a href=\"https://colab.research.google.com/github/respinosa25/hola-mundo/blob/main/Ejercicio_05_AreaCuadrado.ipynb\" target=\"_parent\"><img src=\"https://colab.research.google.com/assets/colab-badge.svg\" alt=\"Open In Colab\"/></a>"
      ]
    },
    {
      "cell_type": "markdown",
      "source": [
        "# Ejercicio 5: Área de un Cuadrado\n",
        "\n",
        "\n",
        "---\n",
        "\n",
        "\n",
        "Programa que solicite al usuario los datos para calcular el área de un Cuadrado (■), finalmente mostrar el resultado en pantalla.\n",
        "\n",
        "\n",
        "---\n",
        "\n",
        "\n",
        "► Fórmula:\n",
        "\n",
        "$Area = Lado^2$\n",
        "\n",
        "\n",
        "---\n",
        "\n"
      ],
      "metadata": {
        "id": "jwPizh9NXyCF"
      }
    },
    {
      "cell_type": "code",
      "source": [
        "# VARIABLES\n",
        "int_Lado = 0\n",
        "int_Area = 0\n",
        "\n",
        "# Inicio de Programa\n",
        "print(\"CALCULAR EL AREA DEL CUADRADO\")\n",
        "\n",
        "# SOLICITUD de Datos\n",
        "int_Lado = int(input('Introduzca el valor del lado del cuadrado: '))\n",
        "\n",
        "# AREA DEL CUADRADO\n",
        "int_Area = int_Lado**2\n",
        "\n",
        "print(\"El area del cuadrado es:  %d\"%(int_Area))"
      ],
      "metadata": {
        "id": "CLqqxUiVX7XC"
      },
      "execution_count": null,
      "outputs": []
    }
  ]
}