{
  "nbformat": 4,
  "nbformat_minor": 0,
  "metadata": {
    "colab": {
      "provenance": [],
      "include_colab_link": true
    },
    "kernelspec": {
      "name": "python3",
      "display_name": "Python 3"
    },
    "language_info": {
      "name": "python"
    }
  },
  "cells": [
    {
      "cell_type": "markdown",
      "metadata": {
        "id": "view-in-github",
        "colab_type": "text"
      },
      "source": [
        "<a href=\"https://colab.research.google.com/github/respinosa25/hola-mundo/blob/main/Ejercicio_03_NombreApellido.ipynb\" target=\"_parent\"><img src=\"https://colab.research.google.com/assets/colab-badge.svg\" alt=\"Open In Colab\"/></a>"
      ]
    },
    {
      "cell_type": "markdown",
      "source": [
        "# Ejercicio 3: Nombre y Apellido\n",
        "\n",
        "\n",
        "\n",
        "---\n",
        "\n",
        "\n",
        "\n",
        "Escribir un programa que pregunte el nombre y apellido del usuario. Luego de ser introducidos los datos muestre por pantalla\n",
        "la cadena `¡Hola {nombre} {apellido}, gusto en conocerte!`, donde:\n",
        "\n",
        "`{nombre}` y `{apellido}` son los valores introducidos.\n",
        "\n",
        "\n",
        "\n",
        "\n",
        "\n"
      ],
      "metadata": {
        "id": "g4NTT7-hMunv"
      }
    },
    {
      "cell_type": "markdown",
      "source": [
        "___\n",
        "## Solución 1: Operador de Formato %\n",
        "\n"
      ],
      "metadata": {
        "id": "WH97tqwXOpHw"
      }
    },
    {
      "cell_type": "code",
      "source": [
        "# Declaracion de variables\n",
        "nombre = \"\"\n",
        "apellido = \"\"\n",
        "\n",
        "# Solicitud de Datos\n",
        "print(\">>> Introduce tu nombre: \")\n",
        "nombre = input(\"> \")\n",
        "print(\">>> Introduce tu apellido: \")\n",
        "apellido = input(\"> \")\n",
        "\n",
        "# Mensaje en Pantalla: Operador de Formato %\n",
        "print(\"Hola %s %s, gusto en conocerte!\" %(nombre,apellido))"
      ],
      "metadata": {
        "id": "L4ofer2fOvrQ"
      },
      "execution_count": null,
      "outputs": []
    },
    {
      "cell_type": "markdown",
      "source": [
        "___\n",
        "## Solución 2: Método .format()\n",
        "\n",
        "Realiza una operación de formato de cadena. La cadena en la que se llama a este método puede contener texto literal o campos de reemplazo delimitados por llaves `{}`. Cada campo de reemplazo contiene el índice numérico `(0,1,2,3 ...) ` de un argumento posicional o el nombre de un argumento de palabra clave.\n",
        "\n",
        "Devuelve una copia de la cadena donde cada campo  se reemplaza con el valor de cadena del argumento correspondiente."
      ],
      "metadata": {
        "id": "D-1v_a6gPGyC"
      }
    },
    {
      "cell_type": "code",
      "source": [
        "# Declaracion de variables\n",
        "nombre = \"\"\n",
        "apellido = \"\"\n",
        "\n",
        "# Solicitud de Datos\n",
        "print(\">>> Introduce tu nombre: \")\n",
        "nombre = input(\"> \")\n",
        "print(\">>> Introduce tu apellido: \")\n",
        "apellido= input(\"> \")\n",
        "\n",
        "# Mensaje en Pantalla: Metodo .format()\n",
        "print(\"Hola {0} {1}, gusto en conocerte!\".format(nombre,apellido))"
      ],
      "metadata": {
        "id": "tS1TQVxfPanG"
      },
      "execution_count": null,
      "outputs": []
    },
    {
      "cell_type": "markdown",
      "source": [
        "___\n",
        "## Solución 3: f-strings\n",
        "\n",
        "Los literales de cadena con formato tienen el prefijo `'f'` (Disponibles desde la version de `Python 3.6`) y son similares a las cadenas de formato aceptadas por `str.format()`. Contienen campos de reemplazo rodeados por llaves `{}`. Los campos de reemplazo son expresiones, que se evalúan en tiempo de ejecución y luego se les da formato usando el protocolo `format()`:"
      ],
      "metadata": {
        "id": "AK9xaKofPlp-"
      }
    },
    {
      "cell_type": "code",
      "source": [
        "# Declaracion de variables\n",
        "nombre = \"\"\n",
        "apellido = \"\"\n",
        "\n",
        "# Solicitud de Datos\n",
        "print(\">>> Introduce tu nombre: \")\n",
        "nombre = input(\"> \")\n",
        "print(\">>> Introduce tu apellido: \")\n",
        "apellido= input(\"> \")\n",
        "\n",
        "# Mensaje en Pantalla: f-strings\n",
        "print(f\"Hola {nombre} {apellido}, gusto en conocerte!\")"
      ],
      "metadata": {
        "id": "wt8umA2rQBWe"
      },
      "execution_count": null,
      "outputs": []
    }
  ]
}