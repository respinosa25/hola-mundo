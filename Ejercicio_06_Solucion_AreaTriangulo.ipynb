{
  "nbformat": 4,
  "nbformat_minor": 0,
  "metadata": {
    "colab": {
      "provenance": [],
      "include_colab_link": true
    },
    "kernelspec": {
      "name": "python3",
      "display_name": "Python 3"
    },
    "language_info": {
      "name": "python"
    }
  },
  "cells": [
    {
      "cell_type": "markdown",
      "metadata": {
        "id": "view-in-github",
        "colab_type": "text"
      },
      "source": [
        "<a href=\"https://colab.research.google.com/github/respinosa25/hola-mundo/blob/main/Ejercicio_06_Solucion_AreaTriangulo.ipynb\" target=\"_parent\"><img src=\"https://colab.research.google.com/assets/colab-badge.svg\" alt=\"Open In Colab\"/></a>"
      ]
    },
    {
      "cell_type": "markdown",
      "source": [
        "# Ejercicio 6: Área de un Triángulo\n",
        "\n",
        "\n",
        "---\n",
        "\n",
        "\n",
        "Programa que solicite al usuario los datos para calcular el área de un Triángulo (▲), finalmente mostrar el resultado en pantalla.\n",
        "\n",
        "\n",
        "---\n",
        "\n",
        "\n",
        "► Fórmula:\n",
        "\n",
        "$Area = \\frac{(Base)(Altura)}{2}$\n",
        "\n",
        "\n",
        "---\n",
        "\n",
        "\n",
        "\n",
        "\n"
      ],
      "metadata": {
        "id": "qz98KrRmuOk7"
      }
    },
    {
      "cell_type": "code",
      "source": [
        "# Declaracion de variables\n",
        "int_Base = 0\n",
        "int_Altura = 0\n",
        "float_Area = 0.0\n",
        "\n",
        "# Incio de programa\n",
        "print(\"CALCULAR EL AREA DEL TRIANGULO\")\n",
        "\n",
        "# Solicitud de datos\n",
        "int_Base = int(input('Introduzca el valor de la Base: '))\n",
        "int_Altura = int(input('Introduzca el valor de la Altura:'))\n",
        "\n",
        "# AREA DEL TRIANGULO\n",
        "float_Area = (int_Base*int_Altura)/2\n",
        "\n",
        "print(\"El area del triangulo es:  %0.2f\"%(float_Area))"
      ],
      "metadata": {
        "id": "kw-mEKlIwuXi",
        "colab": {
          "base_uri": "https://localhost:8080/"
        },
        "outputId": "ea7bd3eb-b62f-4dad-e3b1-42c961dec5a7"
      },
      "execution_count": null,
      "outputs": [
        {
          "output_type": "stream",
          "name": "stdout",
          "text": [
            "CALCULAR EL AREA DEL TRIANGULO\n",
            "Introduzca el valor de la Base: 3\n",
            "Introduzca el valor de la Altura:7\n",
            "El area del triangulo es:  10.50\n"
          ]
        }
      ]
    }
  ]
}